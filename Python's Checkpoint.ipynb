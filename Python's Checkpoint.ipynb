{
 "cells": [
  {
   "cell_type": "code",
   "execution_count": 26,
   "id": "75dcb602",
   "metadata": {},
   "outputs": [],
   "source": [
    "import numpy as np"
   ]
  },
  {
   "cell_type": "code",
   "execution_count": 10,
   "id": "48935f6d",
   "metadata": {},
   "outputs": [
    {
     "name": "stdout",
     "output_type": "stream",
     "text": [
      "please enter value100\n",
      "0.0\n"
     ]
    }
   ],
   "source": [
    "C=50\n",
    "H=30\n",
    "D=input(\"please enter value\")\n",
    "for i in range(0, len(D)):\n",
    " D[i]= sqrt(int(2 * C * int(D[i]))/H)\n",
    " \n",
    "print(np.rint(D[i]))"
   ]
  },
  {
   "cell_type": "code",
   "execution_count": 39,
   "id": "1fc5ba1d",
   "metadata": {},
   "outputs": [
    {
     "name": "stdout",
     "output_type": "stream",
     "text": [
      "please enter value 100\n",
      "18\n"
     ]
    }
   ],
   "source": [
    "C=50\n",
    "H=30\n",
    "D=input(\"please enter value \")\n",
    "D= D.split(\",\")\n",
    "for i in range(0, len(D)):\n",
    "  output = int(sqrt((2 * C * int(D[i])/H)))\n",
    " \n",
    "print(round(output))"
   ]
  },
  {
   "cell_type": "code",
   "execution_count": null,
   "id": "dbdf471b",
   "metadata": {},
   "outputs": [],
   "source": []
  },
  {
   "cell_type": "code",
   "execution_count": null,
   "id": "5b9e3c2c",
   "metadata": {},
   "outputs": [],
   "source": []
  }
 ],
 "metadata": {
  "kernelspec": {
   "display_name": "Python 3 (ipykernel)",
   "language": "python",
   "name": "python3"
  },
  "language_info": {
   "codemirror_mode": {
    "name": "ipython",
    "version": 3
   },
   "file_extension": ".py",
   "mimetype": "text/x-python",
   "name": "python",
   "nbconvert_exporter": "python",
   "pygments_lexer": "ipython3",
   "version": "3.9.12"
  }
 },
 "nbformat": 4,
 "nbformat_minor": 5
}
