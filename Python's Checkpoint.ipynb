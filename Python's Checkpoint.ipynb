{
 "cells": [
  {
   "cell_type": "code",
   "execution_count": null,
   "id": "2800f1f5",
   "metadata": {},
   "outputs": [],
   "source": [
    "import math\n",
    "import numpy as np"
   ]
  },
  {
   "cell_type": "code",
   "execution_count": null,
   "id": "26ad6278",
   "metadata": {},
   "outputs": [],
   "source": [
    "mylist= []\n",
    "for x in range(2000, 3200+1):\n",
    " if(x%7==0):\n",
    "  if(x%5!=0):\n",
    "    mylist.append(int(x))\n",
    "print(mylist)\n"
   ]
  },
  {
   "cell_type": "code",
   "execution_count": null,
   "id": "5069a2be",
   "metadata": {},
   "outputs": [],
   "source": [
    "factorial=1\n",
    "n=input(\"please enter value \")\n",
    "for i in range(1,int(n)+1):\n",
    "    factorial= factorial*i\n",
    "print(\"factioral of\",n, \"is\", factorial)"
   ]
  },
  {
   "cell_type": "code",
   "execution_count": null,
   "id": "f49d4252",
   "metadata": {},
   "outputs": [],
   "source": [
    "d= dict()\n",
    "n=input(\"please enter value \")\n",
    "for i in range (1, int(n)+1):\n",
    "  d[i]= i*i\n",
    "print(d)"
   ]
  },
  {
   "cell_type": "code",
   "execution_count": null,
   "id": "7661d378",
   "metadata": {},
   "outputs": [],
   "source": [
    "n= int(input(\"please enter value\"))\n",
    "string= input(\"please enter the string\")\n",
    "nstring= string[0:n:] + string[n+1::]\n",
    "print(nstring)"
   ]
  },
  {
   "cell_type": "code",
   "execution_count": null,
   "id": "a87be11a",
   "metadata": {},
   "outputs": [],
   "source": [
    "arr= np.array([[0,1] , [2,3] , [4,5]])\n",
    "print(\"This is array elements\", arr )\n",
    "my_list=arr.tolist()\n",
    "print(\"This is list elements\" , my_list)"
   ]
  },
  {
   "cell_type": "code",
   "execution_count": null,
   "id": "d71fd4d8",
   "metadata": {},
   "outputs": [],
   "source": [
    "arr1= np.array([0,1,2])\n",
    "print(\"Elements of first array are\", arr1)\n",
    "arr2=np.array([2,1,0])\n",
    "print(\"Elements of second array are\", arr2)\n",
    "res= np.cov(arr1,arr2)\n",
    "print(\"Convariance matrix is equal\", res)"
   ]
  },
  {
   "cell_type": "code",
   "execution_count": null,
   "id": "8cd3cb78",
   "metadata": {},
   "outputs": [],
   "source": [
    "C=50\n",
    "H=30\n",
    "D=input(\"please enter value \")\n",
    "D= D.split(\",\")\n",
    "for i in range(0, len(D)):\n",
    "  output = int(sqrt((2 * C * int(D[i])/H)))\n",
    " \n",
    "print(output)"
   ]
  },
  {
   "cell_type": "code",
   "execution_count": null,
   "id": "501fbc18",
   "metadata": {},
   "outputs": [],
   "source": []
  }
 ],
 "metadata": {
  "kernelspec": {
   "display_name": "Python 3 (ipykernel)",
   "language": "python",
   "name": "python3"
  },
  "language_info": {
   "codemirror_mode": {
    "name": "ipython",
    "version": 3
   },
   "file_extension": ".py",
   "mimetype": "text/x-python",
   "name": "python",
   "nbconvert_exporter": "python",
   "pygments_lexer": "ipython3",
   "version": "3.9.12"
  }
 },
 "nbformat": 4,
 "nbformat_minor": 5
}
